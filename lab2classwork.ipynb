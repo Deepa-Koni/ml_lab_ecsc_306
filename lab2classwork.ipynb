{
 "cells": [
  {
   "cell_type": "code",
   "execution_count": 5,
   "metadata": {},
   "outputs": [
    {
     "name": "stdout",
     "output_type": "stream",
     "text": [
      "54.55\n",
      "48.5308\n",
      "[[-29.55000305 -14.05000305  19.25        24.34999847]]\n",
      "[[-41.19775009 -14.63074875  47.46924973   8.35924911]]\n",
      "[[ 873.20269775  197.40258789  370.5625      592.92242432]]\n",
      "2034.09\n",
      "[[ 1217.39367676   205.5620575    913.78308105   203.54769897]]\n",
      "2540.29\n"
     ]
    }
   ],
   "source": [
    "import tensorflow as tf\n",
    "import tensorflow as tf\n",
    "x=tf.constant([25.0,40.5,73.8,78.9],shape=[1,4],name='x')\n",
    "y=tf.constant([7.333,33.9,96,56.89],shape=[1,4],name='y')\n",
    "with tf.name_scope(\"mean\"):\n",
    "    with tf.name_scope(\"mean_x_y\"):\n",
    "        x1=tf.reduce_mean(x)\n",
    "        y1=tf.reduce_mean(y)\n",
    "        sess=tf.Session()\n",
    "    print(sess.run(x1))\n",
    "    print(sess.run(y1)) \n",
    "with tf.name_scope(\"variance\"):\n",
    "    with tf.name_scope(\"subtract1\"):\n",
    "        w=tf.subtract(x,x1)\n",
    "        sess1=tf.Session()\n",
    "    print(sess1.run(w))\n",
    "    with tf.name_scope(\"subtract2\"):\n",
    "        b=tf.subtract(y,y1)\n",
    "        sess2=tf.Session()\n",
    "    print(sess2.run(b))\n",
    "    with tf.name_scope(\"square_result\"):\n",
    "        m=tf.multiply(w,w)\n",
    "        sess3=tf.Session()\n",
    "    print(sess3.run(m))\n",
    "    with tf.name_scope(\"scope_summation\"):\n",
    "        var=tf.reduce_sum(m)\n",
    "        sess4=tf.Session()\n",
    "    print(sess4.run(var))\n",
    "with tf.name_scope(\"covariance\"):\n",
    "    with tf.name_scope(\"multiply\"):\n",
    "        mul1=tf.multiply(w,b)\n",
    "        sess5=tf.Session()\n",
    "    print(sess5.run(mul1))\n",
    "    with tf.name_scope(\"scope_summation2\"):\n",
    "        covar=tf.reduce_sum(mul1)\n",
    "        sess6=tf.Session()\n",
    "    print(sess6.run(covar))"
   ]
  },
  {
   "cell_type": "code",
   "execution_count": null,
   "metadata": {
    "collapsed": true
   },
   "outputs": [],
   "source": []
  },
  {
   "cell_type": "code",
   "execution_count": null,
   "metadata": {
    "collapsed": true
   },
   "outputs": [],
   "source": []
  },
  {
   "cell_type": "code",
   "execution_count": null,
   "metadata": {
    "collapsed": true
   },
   "outputs": [],
   "source": []
  }
 ],
 "metadata": {
  "kernelspec": {
   "display_name": "Python 3",
   "language": "python",
   "name": "python3"
  },
  "language_info": {
   "codemirror_mode": {
    "name": "ipython",
    "version": 3
   },
   "file_extension": ".py",
   "mimetype": "text/x-python",
   "name": "python",
   "nbconvert_exporter": "python",
   "pygments_lexer": "ipython3",
   "version": "3.6.1"
  }
 },
 "nbformat": 4,
 "nbformat_minor": 2
}
